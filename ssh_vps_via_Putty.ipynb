{
  "nbformat": 4,
  "nbformat_minor": 0,
  "metadata": {
    "colab": {
      "name": "ssh_vps_via_Putty.ipynb",
      "provenance": []
    },
    "kernelspec": {
      "name": "python3",
      "display_name": "Python 3"
    },
    "language_info": {
      "name": "python"
    }
  },
  "cells": [
    {
      "cell_type": "code",
      "metadata": {
        "id": "-iDEOV5eBdxa"
      },
      "source": [
        "import random, string, urllib.request, json, getpass\n",
        "\n",
        "#Generate root password\n",
        "password = ''.join(random.choice(string.ascii_letters + string.digits) for i in range(20))\n",
        "\n",
        "#Download ngrok\n",
        "! wget -q -c -nc https://bin.equinox.io/c/4VmDzA7iaHb/ngrok-stable-linux-amd64.zip\n",
        "! unzip -qq -n ngrok-stable-linux-amd64.zip\n",
        "\n",
        "#Ask token\n",
        "print(\"Copy authtoken from https://dashboard.ngrok.com/auth\")\n",
        "authtoken = getpass.getpass()\n",
        "\n",
        "#Create tunnel\n",
        "get_ipython().system_raw('./ngrok authtoken $authtoken && ./ngrok tcp 22 &')"
      ],
      "execution_count": null,
      "outputs": []
    },
    {
      "cell_type": "code",
      "metadata": {
        "id": "ULFEaOVvD-wC"
      },
      "source": [
        "! sudo apt-get install openssh-server --fix-missing\n"
      ],
      "execution_count": null,
      "outputs": []
    },
    {
      "cell_type": "code",
      "metadata": {
        "id": "u0tAXyuvEEdi"
      },
      "source": [
        "! echo root:$password | chpasswd\n",
        "! mkdir -p /var/run/sshd\n",
        "! echo \"PermitRootLogin yes\" >> /etc/ssh/sshd_config\n",
        "! echo \"PasswordAuthentication yes\" >> /etc/ssh/sshd_config\n",
        "! echo \"LD_LIBRARY_PATH=/usr/lib64-nvidia\" >> /root/.bashrc\n",
        "! echo \"export LD_LIBRARY_PATH\" >> /root/.bashrc"
      ],
      "execution_count": null,
      "outputs": []
    },
    {
      "cell_type": "code",
      "metadata": {
        "id": "2LYn6WVSERrv"
      },
      "source": [
        "get_ipython().system_raw('/usr/sbin/sshd -D &')\n",
        "# to check if ssh is running on port 22 or not or installed or not\n",
        "! sudo apt install net-tools\n",
        "! netstat -plant | grep ssh\n",
        "! which sshd"
      ],
      "execution_count": null,
      "outputs": []
    },
    {
      "cell_type": "code",
      "metadata": {
        "colab": {
          "base_uri": "https://localhost:8080/"
        },
        "id": "Zm3d77TBEaXg",
        "outputId": "1ef513e7-dee8-4a64-d693-ad1dcf2bd605"
      },
      "source": [
        "# get_ipython().system_raw('./ngrok authtoken $authtoken && ./ngrok tcp 22 &')\n",
        "with urllib.request.urlopen('http://localhost:4040/api/tunnels') as response:\n",
        "  data = json.loads(response.read().decode())\n",
        "  (host, port) = data['tunnels'][0]['public_url'][6:].split(':')\n",
        "  print(f'SSH command: ssh -p{port} root@{host}')\n",
        "#Print root password\n",
        "print(f'SSH password: {password}')"
      ],
      "execution_count": null,
      "outputs": [
        {
          "output_type": "stream",
          "name": "stdout",
          "text": [
            "SSH command: ssh -p14802 root@8.tcp.ngrok.io\n",
            "SSH password: PE9sCUzSbjc0RlbboRaB\n"
          ]
        }
      ]
    },
    {
      "cell_type": "code",
      "source": [
        "#@title **Ativação De 6 A 12 Horas** \n",
        "import time\n",
        "!setterm -foreground blue\n",
        "!nvidia-smi\n",
        "ativar = True #@param {type:'boolean'}\n",
        "!\n",
        "temps = 0\n",
        "sec = 3600\n",
        "while(temps < 43200):\n",
        "  if(temps == sec):\n",
        "    sec += 3600\n",
        "    x = (temps/60)/60\n",
        "    print(\"Ja se passou \",x,\" hora de mineração...\")\n",
        "  time.sleep(1)\n",
        "  temps += 1"
      ],
      "metadata": {
        "cellView": "form",
        "id": "aVuMjm_491Iw"
      },
      "execution_count": null,
      "outputs": []
    }
  ]
}